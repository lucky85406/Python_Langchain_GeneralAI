{
 "cells": [
  {
   "cell_type": "code",
   "execution_count": 1,
   "id": "5bd9aafd",
   "metadata": {},
   "outputs": [
    {
     "name": "stdout",
     "output_type": "stream",
     "text": [
      "a\n",
      "<class 'str'>\n"
     ]
    }
   ],
   "source": [
    "a = \"a\" #string\n",
    "b = 1 #int\n",
    "c = 1.0 #float\n",
    "d = True #bool\n",
    "e = type(a) #call type function\n",
    "print(a)\n",
    "print(e)"
   ]
  },
  {
   "cell_type": "code",
   "execution_count": 6,
   "id": "79c5cfdd",
   "metadata": {},
   "outputs": [
    {
     "name": "stdout",
     "output_type": "stream",
     "text": [
      "hi/1/1.0/True/a type：/<class 'str'>\n",
      "hi 1.0 True type(c)： <class 'float'>..\n"
     ]
    }
   ],
   "source": [
    "print('hi',b,c,d,\"a type：\",type(a),sep='/')\n",
    "print(\"hi\",c,d,\"type(c)：\",type(c),end='..\\n')"
   ]
  },
  {
   "cell_type": "code",
   "execution_count": 7,
   "id": "6cdee4a6",
   "metadata": {},
   "outputs": [
    {
     "name": "stdout",
     "output_type": "stream",
     "text": [
      "hi:a/hi2:1\n",
      "hi3：1.0\n"
     ]
    }
   ],
   "source": [
    "print(f\"hi:{a}/hi2:{b}\\nhi3：{c}\")"
   ]
  },
  {
   "cell_type": "code",
   "execution_count": 9,
   "id": "b8149001",
   "metadata": {},
   "outputs": [
    {
     "name": "stdout",
     "output_type": "stream",
     "text": [
      "10 + 3 = 13\n",
      "10 - 3 = 7\n",
      "10 * 3 = 30\n",
      "10 / 3 = 3.3333333333333335\n",
      "10 % 3 = 1\n",
      "10 ** 3 = 1000\n"
     ]
    }
   ],
   "source": [
    "# 建立數學運算式並印出結果\n",
    "x = 10\n",
    "y = 3\n",
    "\n",
    "加法 = x + y\n",
    "減法 = x - y\n",
    "乘法 = x * y\n",
    "除法 = x / y\n",
    "取餘數 = x % y\n",
    "次方 = x ** y\n",
    "\n",
    "print(f\"{x} + {y} = {加法}\")\n",
    "print(f\"{x} - {y} = {減法}\")\n",
    "print(f\"{x} * {y} = {乘法}\")\n",
    "print(f\"{x} / {y} = {除法}\")\n",
    "print(f\"{x} % {y} = {取餘數}\")\n",
    "print(f\"{x} ** {y} = {次方}\")\n"
   ]
  },
  {
   "cell_type": "code",
   "execution_count": null,
   "id": "4d197fa0",
   "metadata": {},
   "outputs": [
    {
     "name": "stdout",
     "output_type": "stream",
     "text": [
      "斜邊長度 = 5.00\n"
     ]
    }
   ],
   "source": [
    "import math\n",
    "\n",
    "adjacent_side = 3 #鄰邊長度\n",
    "opposite_side = 4 #對邊長度\n",
    "\n",
    "#使用畢氏定理計算斜邊長度\n",
    "hypotenuse_length = math.sqrt(adjacent_side**2 + opposite_side**2)\n",
    "\n",
    "print(f\"斜邊長度 = {hypotenuse_length:.2f}\")"
   ]
  }
 ],
 "metadata": {
  "kernelspec": {
   "display_name": "langchain",
   "language": "python",
   "name": "python3"
  },
  "language_info": {
   "codemirror_mode": {
    "name": "ipython",
    "version": 3
   },
   "file_extension": ".py",
   "mimetype": "text/x-python",
   "name": "python",
   "nbconvert_exporter": "python",
   "pygments_lexer": "ipython3",
   "version": "3.11.13"
  }
 },
 "nbformat": 4,
 "nbformat_minor": 5
}
