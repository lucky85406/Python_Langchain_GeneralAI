{
 "cells": [
  {
   "cell_type": "code",
   "execution_count": null,
   "id": "c8135381",
   "metadata": {},
   "outputs": [
    {
     "name": "stdout",
     "output_type": "stream",
     "text": [
      "chk is False\n",
      "very ok\n"
     ]
    }
   ],
   "source": [
    "chk:bool = False\n",
    "if chk:\n",
    "    print(f\"chk is {chk}\")\n",
    "else:\n",
    "    print(f\"chk is {chk}\")\n",
    "    \n",
    "score = 80\n",
    "\n",
    "if score >=70:\n",
    "    print(f\"very ok\")\n",
    "elif score >= 60:\n",
    "    print(f\"OK\")\n",
    "elif score < 60:\n",
    "    print(f\"not good\")"
   ]
  },
  {
   "cell_type": "code",
   "execution_count": null,
   "id": "60dc12c4",
   "metadata": {},
   "outputs": [
    {
     "name": "stdout",
     "output_type": "stream",
     "text": [
      "i：10\n",
      "i：20\n",
      "i：30\n"
     ]
    }
   ],
   "source": [
    "i = 10\n",
    "print(f\"i：{i}\")\n",
    "i = i + 10\n",
    "print(f\"i：{i}\")\n",
    "#複合指定運算子\n",
    "i += 10\n",
    "print(f\"i：{i}\")"
   ]
  },
  {
   "cell_type": "code",
   "execution_count": null,
   "id": "efbffe15",
   "metadata": {},
   "outputs": [
    {
     "name": "stdout",
     "output_type": "stream",
     "text": [
      "i:1\n",
      "i:2\n",
      "i:3\n",
      "i:4\n",
      "a:0\n",
      "a:1\n",
      "a:2\n",
      "a:3\n",
      "a:4\n",
      "a:5\n"
     ]
    }
   ],
   "source": [
    "for i in range(1,5):\n",
    "    print(f\"i:{i}\")\n",
    "a = 0\n",
    "while a < 6:\n",
    "    print(f\"a:{a}\")\n",
    "    a+=1"
   ]
  },
  {
   "cell_type": "code",
   "execution_count": 11,
   "id": "71f14613",
   "metadata": {},
   "outputs": [
    {
     "name": "stdout",
     "output_type": "stream",
     "text": [
      "k:0\n",
      "k:1\n",
      "k:2\n",
      "k:3\n",
      "k:4/break\n"
     ]
    }
   ],
   "source": [
    "k = 0\n",
    "while k < 6:\n",
    "    print(f\"k:{k}\")\n",
    "    k +=1\n",
    "    if k == 4:\n",
    "        print(f\"k:{k}/break\")\n",
    "        break"
   ]
  },
  {
   "cell_type": "code",
   "execution_count": 4,
   "id": "cd26b23f",
   "metadata": {},
   "outputs": [
    {
     "name": "stdout",
     "output_type": "stream",
     "text": [
      "wrong number\n",
      "wrong number\n",
      "wrong number\n",
      "you correct\n"
     ]
    }
   ],
   "source": [
    "# simple game\n",
    "import random\n",
    "ri = random.randint(1,10)\n",
    "while True:\n",
    "    ui = int(input(\"User input：\"))\n",
    "    if ui == ri:\n",
    "        print(f\"you correct\")\n",
    "        break\n",
    "    else:\n",
    "        print(\"wrong number\")\n"
   ]
  },
  {
   "cell_type": "code",
   "execution_count": 27,
   "id": "69080f05",
   "metadata": {},
   "outputs": [
    {
     "name": "stdout",
     "output_type": "stream",
     "text": [
      "         *\n",
      "        ***\n",
      "       *****\n",
      "      *******\n",
      "     *********\n",
      "    ***********\n",
      "   *************\n",
      "  ***************\n",
      " *****************\n",
      "*******************\n",
      "        |||\n",
      "        |||\n",
      "        |||\n",
      "        |||\n"
     ]
    }
   ],
   "source": [
    "def print_christmas_tree(h: int = 3):\n",
    "    \"\"\"\n",
    "    打印有樹幹的聖誕樹，樹葉與樹幹皆用*字符呈現\n",
    "    :param h: 樹葉高度\n",
    "    \"\"\"\n",
    "    # 印出樹葉\n",
    "    for i in range(h):\n",
    "        print(\" \" * (h - i - 1) + \"*\" * (2 * i + 1))\n",
    "    # 印出樹幹（高度為2，寬度為1，置中）\n",
    "    trunk_height = 4\n",
    "    trunk_width = 3\n",
    "    for _ in range(trunk_height):\n",
    "        print(\" \" * (h - (trunk_width-(int(trunk_width / 2)))) + \"|\" * trunk_width)\n",
    "print_christmas_tree(10)"
   ]
  },
  {
   "cell_type": "code",
   "execution_count": 36,
   "id": "327a2a09",
   "metadata": {},
   "outputs": [
    {
     "name": "stdout",
     "output_type": "stream",
     "text": [
      "半徑為 6.2 的圓形：\n",
      "面積 = 120.76\n",
      "圓周長 = 38.96\n"
     ]
    }
   ],
   "source": [
    "import math\n",
    "\n",
    "def circle_area_circumference(radius: float):\n",
    "    \"\"\"\n",
    "    計算圓形面積及圓周長，並返回結果且打印出來\n",
    "    :param radius: 圓的半徑\n",
    "    :return: (面積, 圓周長)\n",
    "    \"\"\"\n",
    "    area = math.pi * radius ** 2\n",
    "    circumference = 2 * math.pi * radius\n",
    "    print(f\"半徑為 {radius} 的圓形：\")\n",
    "    print(f\"面積 = {area:.2f}\")\n",
    "    print(f\"圓周長 = {circumference:.2f}\")\n",
    "    return area, circumference\n",
    "\n",
    "# 範例：計算半徑為5的圓形面積及圓周長\n",
    "radius = input(\"請輸入半徑：\")\n",
    "try:\n",
    "    r = float(radius)\n",
    "    circle_area_circumference(r)\n",
    "except ValueError:\n",
    "    print(\"請輸入有效的數字作為半徑！\")\n",
    "\n"
   ]
  }
 ],
 "metadata": {
  "kernelspec": {
   "display_name": "langchain",
   "language": "python",
   "name": "python3"
  },
  "language_info": {
   "codemirror_mode": {
    "name": "ipython",
    "version": 3
   },
   "file_extension": ".py",
   "mimetype": "text/x-python",
   "name": "python",
   "nbconvert_exporter": "python",
   "pygments_lexer": "ipython3",
   "version": "3.11.13"
  }
 },
 "nbformat": 4,
 "nbformat_minor": 5
}
