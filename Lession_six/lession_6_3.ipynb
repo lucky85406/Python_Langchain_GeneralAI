{
 "cells": [
  {
   "cell_type": "code",
   "execution_count": 23,
   "id": "cdbcd196",
   "metadata": {},
   "outputs": [],
   "source": [
    "from langchain.prompts import ChatPromptTemplate\n",
    "from langchain.schema.output_parser import StrOutputParser\n",
    "from langchain.schema.runnable import RunnableParallel, RunnableLambda\n",
    "from langchain_ollama import ChatOllama\n",
    "\n",
    "model = ChatOllama(\n",
    "    model=\"llama3.2:latest\",\n",
    "    temperature=0.7\n",
    ")\n"
   ]
  },
  {
   "cell_type": "code",
   "execution_count": 24,
   "id": "93cc3e9a",
   "metadata": {},
   "outputs": [],
   "source": [
    "prompt_template = ChatPromptTemplate.from_messages(\n",
    "    [\n",
    "        (\"system\",\"你是一位專業的餐廳評論家，擅長分析參的優缺點。\"),\n",
    "        (\"human\",\"請分析這家餐廳：{restaurant_name}\")\n",
    "    ]\n",
    ")"
   ]
  },
  {
   "cell_type": "code",
   "execution_count": 25,
   "id": "c6edda26",
   "metadata": {},
   "outputs": [],
   "source": [
    "pros_template = ChatPromptTemplate.from_messages(\n",
    "    [\n",
    "        (\"system\",\"你是一位專業的餐廳評論家，擅長分析參的優點。\"),\n",
    "        (\"human\",\"根據餐廳資訊：{restaurant_info}，請列出這家餐廳的優點。\")\n",
    "    ]\n",
    ")\n",
    "\n",
    "pros_branch_chain = (\n",
    "    pros_template\n",
    "    | model\n",
    "    | StrOutputParser()\n",
    ")"
   ]
  },
  {
   "cell_type": "code",
   "execution_count": 26,
   "id": "296599c8",
   "metadata": {},
   "outputs": [],
   "source": [
    "cons_template = ChatPromptTemplate.from_messages(\n",
    "    [\n",
    "        (\"system\",\"你是一位專業的餐廳評論家，擅長分析參的缺點。\"),\n",
    "        (\"human\",\"根據餐廳資訊：{restaurant_info}，請列出這家餐廳的缺點。\")\n",
    "    ]\n",
    ")\n",
    "\n",
    "cons_branch_chain = (\n",
    "    cons_template\n",
    "    | model\n",
    "    | StrOutputParser()\n",
    ")"
   ]
  },
  {
   "cell_type": "code",
   "execution_count": 27,
   "id": "706477f4",
   "metadata": {},
   "outputs": [
    {
     "name": "stdout",
     "output_type": "stream",
     "text": [
      "結果合併函數已定義：combine_pros_cons\n"
     ]
    }
   ],
   "source": [
    "# 定義結果合併函數\n",
    "def combine_pros_cons(pros, cons):\n",
    "    \"\"\"將優點和缺點合併成最終評論\"\"\"\n",
    "    return f\"\"\"\n",
    "🍽️ 餐廳評論分析報告\n",
    "{'='*50}\n",
    "\n",
    "✅ 優點分析：\n",
    "{pros}\n",
    "\n",
    "❌ 缺點分析：\n",
    "{cons}\n",
    "\n",
    "📊 總結：這是一個平衡的餐廳評論分析\n",
    "\"\"\"\n",
    "\n",
    "print(\"結果合併函數已定義：combine_pros_cons\")\n"
   ]
  },
  {
   "cell_type": "code",
   "execution_count": 28,
   "id": "7cf127a8",
   "metadata": {},
   "outputs": [],
   "source": [
    "chain = (\n",
    "    prompt_template \n",
    "    | model\n",
    "    | StrOutputParser()\n",
    "    | RunnableLambda(lambda x:{\"restaurant_info\":x})\n",
    "    | RunnableParallel(\n",
    "        pros = pros_branch_chain,\n",
    "        cons = cons_branch_chain\n",
    "    )\n",
    "    | RunnableLambda(lambda x: combine_pros_cons(x['pros'],x['cons']))\n",
    ")"
   ]
  },
  {
   "cell_type": "code",
   "execution_count": 29,
   "id": "1e5a326b",
   "metadata": {},
   "outputs": [
    {
     "name": "stdout",
     "output_type": "stream",
     "text": [
      "\n",
      "🍽️ 餐廳評論分析報告\n",
      "==================================================\n",
      "\n",
      "✅ 優點分析：\n",
      "根據評論家的分析，這家美式餐廳的優點如下：\n",
      "\n",
      "1. **明亮的裝潢**：餐廳的現代風格是吸引人的一大優勢。\n",
      "2. **多樣化的菜單**：提供各式漢堡、薯條和飲料，滿足不同口味和需求。\n",
      "3. **適合聚會**：餐廳的氣氛輕鬆，適合為朋友聚集來吃飯。\n",
      "\n",
      "❌ 缺點分析：\n",
      "根據提供的資訊，我們可以列出這家餐廳的缺點如下：\n",
      "\n",
      "1.  **無原創性**： menu 內容似乎並不 TOO 原創，有些菜品可能與其他餐廳有所重疊。\n",
      "2.  **裝潢上的過度簡化**：雖然明亮的裝潢是優點之一，但是否真的足夠讓客戶感受到特別呢？在現代餐廳中，通常需要更多的細節和創意來吸引客戶注意力。\n",
      "3.  **沒有特殊的賣点**：雖然餐廳適合聚會，但它並沒有什麼特別的 selling point，可以令客戶記得這家餐廳。\n",
      "\n",
      "📊 總結：這是一個平衡的餐廳評論分析\n",
      "\n"
     ]
    }
   ],
   "source": [
    "restaurant = \"\"\"\n",
    "這是一家美式餐廳，有明亮的裝潢，提供各式漢堡、薯條和飲料，氣氛輕鬆適合聚會。\n",
    "\"\"\"\n",
    "\n",
    "result = chain.invoke({\"restaurant_name\":restaurant})\n",
    "\n",
    "print(result)"
   ]
  }
 ],
 "metadata": {
  "kernelspec": {
   "display_name": ".venv",
   "language": "python",
   "name": "python3"
  },
  "language_info": {
   "codemirror_mode": {
    "name": "ipython",
    "version": 3
   },
   "file_extension": ".py",
   "mimetype": "text/x-python",
   "name": "python",
   "nbconvert_exporter": "python",
   "pygments_lexer": "ipython3",
   "version": "3.11.13"
  }
 },
 "nbformat": 4,
 "nbformat_minor": 5
}
