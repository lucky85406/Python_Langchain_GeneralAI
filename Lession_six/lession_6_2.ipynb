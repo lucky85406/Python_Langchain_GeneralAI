{
 "cells": [
  {
   "cell_type": "code",
   "execution_count": null,
   "id": "a5a27bc6",
   "metadata": {},
   "outputs": [],
   "source": [
    "from langchain.prompts import ChatPromptTemplate\n",
    "from langchain.schema.output_parser import StrOutputParser\n",
    "from langchain_ollama.llms import OllamaLLM\n",
    "\n",
    "model = OllamaLLM(model=\"gemma3:1b\")"
   ]
  },
  {
   "cell_type": "code",
   "execution_count": null,
   "id": "2aac2f83",
   "metadata": {},
   "outputs": [],
   "source": [
    "prompt_template = ChatPromptTemplate.from_messages([\n",
    "    (\"system\",\"你是一個專業的客服代表，負責回覆客戶郵件。請用友善、專業的語調及繁體中文回覆。禁止提供結語\"),\n",
    "    (\"human\",\"請回覆這封客戶郵件：\\n\\n{email_content}\")\n",
    "])"
   ]
  },
  {
   "cell_type": "code",
   "execution_count": null,
   "id": "3cfdfe43",
   "metadata": {},
   "outputs": [],
   "source": [
    "improve_prompt = ChatPromptTemplate.from_messages(\n",
    "    [\n",
    "        (\"system\",\"你是郵件品質專家。請評估這封郵件的專業度、友善度和完整度（1-10分），並提供具體的改進建議。\"),\n",
    "        (\"human\",\"估並改進這封郵件:\\n\\n{formatted_reply}\")\n",
    "    ]\n",
    ")"
   ]
  },
  {
   "cell_type": "code",
   "execution_count": null,
   "id": "4d685aed",
   "metadata": {},
   "outputs": [],
   "source": [
    "import time\n",
    "\n",
    "\n",
    "def add_Conclusion_text(content:str)->dict:\n",
    "    now_time = time.strftime(\"%Y/%m/%d %H:%M\")\n",
    "    result = f\"\"\"{content}\n",
    "\n",
    "\n",
    "ABC團隊 敬上\n",
    "回覆時間：{now_time}\"\"\"\n",
    "    return {\"formatted_reply\":result}"
   ]
  },
  {
   "cell_type": "code",
   "execution_count": null,
   "id": "ee291ff5",
   "metadata": {},
   "outputs": [],
   "source": [
    "from langchain.schema.runnable import RunnableLambda\n",
    "chain = (prompt_template \n",
    "         | model \n",
    "         | StrOutputParser()\n",
    "         | RunnableLambda(add_Conclusion_text)\n",
    "         | improve_prompt\n",
    "         | model\n",
    "         | StrOutputParser()\n",
    ")"
   ]
  },
  {
   "cell_type": "code",
   "execution_count": null,
   "id": "a5b7b40c",
   "metadata": {},
   "outputs": [],
   "source": [
    "customer_email = \"\"\"您好，\n",
    "\n",
    "我是昨天在貴公司網站購買商品的客戶。收到商品後發現有損壞的情況，想請問如何辦理換貨或是退款？我可以提供損壞商品的照片以及訂單編號，請協助處理，謝謝！\n",
    "\n",
    "請盡快回覆，感謝您！\n",
    "\n",
    "祝順心\n",
    "\"\"\""
   ]
  },
  {
   "cell_type": "code",
   "execution_count": null,
   "id": "f4c40595",
   "metadata": {},
   "outputs": [],
   "source": [
    "result = chain.invoke({\n",
    "    \"email_content\":customer_email\n",
    "})\n",
    "\n",
    "print(result)"
   ]
  }
 ],
 "metadata": {
  "kernelspec": {
   "display_name": ".venv",
   "language": "python",
   "name": "python3"
  },
  "language_info": {
   "codemirror_mode": {
    "name": "ipython",
    "version": 3
   },
   "file_extension": ".py",
   "mimetype": "text/x-python",
   "name": "python",
   "nbconvert_exporter": "python",
   "pygments_lexer": "ipython3",
   "version": "3.11.13"
  }
 },
 "nbformat": 4,
 "nbformat_minor": 5
}
