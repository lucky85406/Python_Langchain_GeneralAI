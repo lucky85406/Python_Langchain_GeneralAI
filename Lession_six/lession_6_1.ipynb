{
 "cells": [
  {
   "cell_type": "code",
   "execution_count": null,
   "id": "67862cf5",
   "metadata": {},
   "outputs": [],
   "source": [
    "from langchain.prompts import ChatPromptTemplate\n",
    "from langchain_ollama.llms import OllamaLLM\n",
    "from langchain.schema.output_parser import StrOutputParser\n",
    "\n",
    "prompt = ChatPromptTemplate.from_template(\"\"\"你是一位專業的{role}，請用{style}的風格來介紹{topic}。\n",
    "\n",
    "要求：\n",
    "1. 內容要準確且易懂\n",
    "2. 長度控制在200字以內\n",
    "3. 使用繁體中文回答\n",
    "\n",
    "請開始介紹：\"\"\") #建立ChatPromptTemplate實體\n",
    "model = OllamaLLM(\n",
    "    model=\"llama3.2:latest\",\n",
    "    temperature=0.7,\n",
    "    top_p=0.9)\n",
    "output_parser = StrOutputParser()\n",
    "\n",
    "#使用LCEL語法建立鏈\n",
    "\n",
    "chain = prompt | model | output_parser\n",
    "# 準備輸入資料\n",
    "input_data = {\n",
    "    \"role\": \"AI 專家\",\n",
    "    \"style\": \"簡潔明瞭\",\n",
    "    \"topic\": \"人工智慧\"\n",
    "}\n",
    "\n",
    "print(\"📝 輸入資料：\")\n",
    "for key, value in input_data.items():\n",
    "    print(f\"   {key}: {value}\")\n",
    "\n",
    "print(\"\\n🔄 正在執行基礎鏈...\")\n",
    "print(\"=\" * 50)\n",
    "\n",
    "# 執行基礎鏈\n",
    "result = chain.invoke(input_data)\n",
    "\n",
    "print(\"=\" * 50)\n",
    "print(\"✅ 基礎鏈執行完成！\")\n",
    "print(\"\\n📋 回應結果：\")\n",
    "print(result)\n"
   ]
  },
  {
   "cell_type": "code",
   "execution_count": 6,
   "id": "9aede31d",
   "metadata": {},
   "outputs": [],
   "source": [
    "def upgrade_step1(name:str)->list:\n",
    "    result = f\"\"\"{name}\n",
    "level 1\"\"\"\n",
    "\n",
    "    return [result,20]\n",
    "def upgrade_step2(input_str:list)->str:\n",
    "    result = f\"\"\"{input_str[0]}/{input_str[1]}\n",
    "level 2\"\"\"\n",
    "\n",
    "    return result\n",
    "\n",
    "def upgrade_step3(input_str:str)->str:\n",
    "    result = f\"\"\"{input_str}\n",
    "level 3\"\"\"\n",
    "\n",
    "    return result"
   ]
  },
  {
   "cell_type": "code",
   "execution_count": 7,
   "id": "35bdfbea",
   "metadata": {},
   "outputs": [
    {
     "name": "stdout",
     "output_type": "stream",
     "text": [
      "time\n",
      "level 1/20\n",
      "level 2\n",
      "level 3\n"
     ]
    }
   ],
   "source": [
    "from langchain.schema.runnable import RunnableLambda\n",
    "\n",
    "chain = (RunnableLambda(upgrade_step1) | RunnableLambda(upgrade_step2) | RunnableLambda(upgrade_step3))\n",
    "result = chain.invoke(\"time\")\n",
    "print(result)"
   ]
  }
 ],
 "metadata": {
  "kernelspec": {
   "display_name": ".venv",
   "language": "python",
   "name": "python3"
  },
  "language_info": {
   "codemirror_mode": {
    "name": "ipython",
    "version": 3
   },
   "file_extension": ".py",
   "mimetype": "text/x-python",
   "name": "python",
   "nbconvert_exporter": "python",
   "pygments_lexer": "ipython3",
   "version": "3.11.13"
  }
 },
 "nbformat": 4,
 "nbformat_minor": 5
}
