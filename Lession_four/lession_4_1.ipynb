{
 "cells": [
  {
   "cell_type": "markdown",
   "id": "502dee75",
   "metadata": {},
   "source": [
    "### 使用ollama"
   ]
  },
  {
   "cell_type": "code",
   "execution_count": null,
   "id": "97c232f3",
   "metadata": {},
   "outputs": [
    {
     "name": "stdout",
     "output_type": "stream",
     "text": [
      "<class 'langchain_core.messages.ai.AIMessage'>\n",
      "所有答案\n",
      "content='8181 除以 9 的商是 909。' additional_kwargs={} response_metadata={'model': 'llama3.2:latest', 'created_at': '2025-09-20T06:49:31.1041219Z', 'done': True, 'done_reason': 'stop', 'total_duration': 948728700, 'load_duration': 225993100, 'prompt_eval_count': 40, 'prompt_eval_duration': 291879500, 'eval_count': 14, 'eval_duration': 429706700, 'model_name': 'llama3.2:latest'} id='run--c8adc35d-bd79-47b3-ab55-5d619586bc06-0' usage_metadata={'input_tokens': 40, 'output_tokens': 14, 'total_tokens': 54}\n",
      "回答內容是\n",
      "8181 除以 9 的商是 909。\n"
     ]
    }
   ],
   "source": [
    "from langchain_ollama import ChatOllama\n",
    "# Create a ChatOllama model\n",
    "# 透過網址的方式連結ollama (指定 base_url 指向 Ollama server)\n",
    "# 預設 Ollama server 在本機的 11434 埠，若在其他主機或埠請改成相對應的網址\n",
    "\n",
    "#model = ChatOllama(model=\"llama3.2:latest\", base_url=\"http://host.docker.internal:11434\")\n",
    "model = ChatOllama(model=\"llama3.2:latest\",base_url=\"http://localhost:11434\")\n",
    "\n",
    "\n",
    "# Invoke the model with a message\n",
    "result = model.invoke(\"8181除以9的答案是?/繁體中文回覆\")\n",
    "print(type(result))\n",
    "print(\"所有答案\")\n",
    "print(result)\n",
    "print(\"回答內容是\")\n",
    "print(result.content)"
   ]
  },
  {
   "cell_type": "code",
   "execution_count": 10,
   "id": "adb69085",
   "metadata": {},
   "outputs": [
    {
     "name": "stdout",
     "output_type": "stream",
     "text": [
      "<class 'langchain_core.messages.ai.AIMessage'>\n",
      "所有答案\n",
      "{'lc': 1, 'type': 'constructor', 'id': ['langchain', 'schema', 'messages', 'AIMessage'], 'kwargs': {'content': '春風拂面花兒笑，\\n鳥語聲聲枝頭繞。\\n人間美景多奇妙，\\n歲月靜好樂陶陶。', 'response_metadata': {'prompt_feedback': {'block_reason': 0, 'safety_ratings': []}, 'finish_reason': 'STOP', 'model_name': 'gemini-2.5-flash', 'safety_ratings': []}, 'type': 'ai', 'id': 'run--26ab0c76-0f7e-45a1-a393-8aa45ac8e876-0', 'usage_metadata': {'input_tokens': 15, 'output_tokens': 830, 'total_tokens': 845, 'input_token_details': {'cache_read': 0}, 'output_token_details': {'reasoning': 796}}, 'tool_calls': [], 'invalid_tool_calls': []}}\n",
      "回答內容是\n",
      "春風拂面花兒笑，\n",
      "鳥語聲聲枝頭繞。\n",
      "人間美景多奇妙，\n",
      "歲月靜好樂陶陶。\n"
     ]
    }
   ],
   "source": [
    "from dotenv import load_dotenv\n",
    "from langchain_google_genai import ChatGoogleGenerativeAI\n",
    "\n",
    "# Load environment variables from .env\n",
    "load_dotenv()\n",
    "# Create a ChatGoogleGenerativeAI model\n",
    "model = ChatGoogleGenerativeAI(model=\"gemini-2.5-flash\")\n",
    "\n",
    "#Invoke the model with a message\n",
    "result = model.invoke(\"生成一個四句的詩句/以繁體中文回覆\")\n",
    "print(type(result))\n",
    "print(\"所有答案\")\n",
    "print(result.to_json())\n",
    "print(\"回答內容是\")\n",
    "print(result.content)"
   ]
  }
 ],
 "metadata": {
  "kernelspec": {
   "display_name": ".venv",
   "language": "python",
   "name": "python3"
  },
  "language_info": {
   "codemirror_mode": {
    "name": "ipython",
    "version": 3
   },
   "file_extension": ".py",
   "mimetype": "text/x-python",
   "name": "python",
   "nbconvert_exporter": "python",
   "pygments_lexer": "ipython3",
   "version": "3.11.13"
  }
 },
 "nbformat": 4,
 "nbformat_minor": 5
}
